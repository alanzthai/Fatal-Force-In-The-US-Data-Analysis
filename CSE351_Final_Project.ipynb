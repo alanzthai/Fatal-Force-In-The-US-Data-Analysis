{
 "cells": [
  {
   "cell_type": "code",
   "execution_count": 4,
   "id": "43c21e0e",
   "metadata": {},
   "outputs": [],
   "source": [
    "#LIBRARIES\n",
    "\n",
    "import pandas as pd\n",
    "from IPython.core.display import HTML"
   ]
  },
  {
   "cell_type": "code",
   "execution_count": 5,
   "id": "1723c993",
   "metadata": {},
   "outputs": [],
   "source": [
    "#CSV FILES\n",
    "\n",
    "education=pd.read_csv('education.csv')\n",
    "income=pd.read_csv('income.csv')\n",
    "poverty=pd.read_csv('poverty.csv')\n",
    "race=pd.read_csv('share_race_by_city.csv')\n",
    "police_killing_test=pd.read_csv('police_killings_test.csv')\n",
    "police_killing_train=pd.read_csv('police_killings_train.csv')\n"
   ]
  },
  {
   "cell_type": "code",
   "execution_count": 6,
   "id": "53945097",
   "metadata": {},
   "outputs": [],
   "source": [
    "#MERGING DATA\n",
    "merged_data=pd.merge(education,income, on =['Geographic Area','City'])\n",
    "merged_data=pd.merge(merged_data,poverty, on =['Geographic Area','City'])\n",
    "race=race.rename(columns={'Geographic area':'Geographic Area'})\n",
    "merged_data=pd.merge(merged_data,race, on =['Geographic Area','City'])\n",
    "#display(HTML(merged_data.to_html()))"
   ]
  },
  {
   "cell_type": "code",
   "execution_count": null,
   "id": "e7202aae",
   "metadata": {},
   "outputs": [],
   "source": []
  }
 ],
 "metadata": {
  "kernelspec": {
   "display_name": "Python 3 (ipykernel)",
   "language": "python",
   "name": "python3"
  },
  "language_info": {
   "codemirror_mode": {
    "name": "ipython",
    "version": 3
   },
   "file_extension": ".py",
   "mimetype": "text/x-python",
   "name": "python",
   "nbconvert_exporter": "python",
   "pygments_lexer": "ipython3",
   "version": "3.9.13"
  }
 },
 "nbformat": 4,
 "nbformat_minor": 5
}
